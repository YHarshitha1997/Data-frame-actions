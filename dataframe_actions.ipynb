{
 "cells": [
  {
   "cell_type": "code",
   "execution_count": 14,
   "metadata": {},
   "outputs": [
    {
     "name": "stdout",
     "output_type": "stream",
     "text": [
      "Total rows:  12\n",
      "Total columns:  4 \n",
      "\n",
      "First 8 rows: \n",
      "   Month   \"1958\"   \"1959\"   \"1960\"\n",
      "0   JAN      340      360      417\n",
      "1   FEB      318      342      391\n",
      "2   MAR      362      406      419\n",
      "3   APR      348      396      461\n",
      "4   MAY      363      420      472\n",
      "5   JUN      435      472      535\n",
      "6   JUL      491      548      622\n",
      "7   AUG      505      559      606 \n",
      "\n",
      "Last 3 rows: \n",
      "    Month   \"1958\"   \"1959\"   \"1960\"\n",
      "9    OCT      359      407      461\n",
      "10   NOV      310      362      390\n",
      "11   DEC      337      405      432 \n",
      "\n",
      "Transpose of first 4 rows: \n",
      "            0    1    2    3\n",
      "Month    JAN  FEB  MAR  APR\n",
      " \"1958\"  340  318  362  348\n",
      " \"1959\"  360  342  406  396\n",
      " \"1960\"  417  391  419  461\n"
     ]
    }
   ],
   "source": [
    "import pandas as pd\n",
    "\n",
    "url = \"https://people.sc.fsu.edu/~jburkardt/data/csv/airtravel.csv\"\n",
    "df = pd.read_csv(url)\n",
    "\n",
    "\n",
    "print(\"Total rows: \", len(df))\n",
    "print(\"Total columns: \", len(df.columns),\"\\n\")\n",
    "\n",
    "print(\"First 8 rows: \\n\", df.head(n=8),\"\\n\")\n",
    "print(\"Last 3 rows: \\n\", df.tail(n=3),\"\\n\")\n",
    "\n",
    "print(\"Transpose of first 4 rows: \\n\", df.head(n=4).transpose())"
   ]
  }
 ],
 "metadata": {
  "kernelspec": {
   "display_name": "Python 3",
   "language": "python",
   "name": "python3"
  },
  "language_info": {
   "codemirror_mode": {
    "name": "ipython",
    "version": 3
   },
   "file_extension": ".py",
   "mimetype": "text/x-python",
   "name": "python",
   "nbconvert_exporter": "python",
   "pygments_lexer": "ipython3",
   "version": "3.7.1"
  }
 },
 "nbformat": 4,
 "nbformat_minor": 2
}
